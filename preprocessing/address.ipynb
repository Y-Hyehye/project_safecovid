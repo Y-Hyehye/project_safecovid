{
 "cells": [
  {
   "cell_type": "code",
   "execution_count": 1,
   "metadata": {},
   "outputs": [],
   "source": [
    "# 한글주소를 위도, 경도로 바꾸기\n",
    "import json\n",
    "import requests\n",
    "import pandas as pd"
   ]
  },
  {
   "cell_type": "code",
   "execution_count": 2,
   "metadata": {},
   "outputs": [],
   "source": [
    "# 안심식당 데이터 불러오기 (csv파일 이용)\n",
    "df1=pd.read_csv('res.csv', encoding='cp949')"
   ]
  },
  {
   "cell_type": "code",
   "execution_count": 4,
   "metadata": {},
   "outputs": [],
   "source": [
    "address=list(df['주소1'].values)\n",
    "ApiKey='A093DC83-14A2-33AA-B2CB-FB5027A61A3F'"
   ]
  },
  {
   "cell_type": "code",
   "execution_count": 5,
   "metadata": {},
   "outputs": [
    {
     "name": "stderr",
     "output_type": "stream",
     "text": [
      "C:\\ProgramData\\Anaconda3\\lib\\site-packages\\ipykernel_launcher.py:15: SettingWithCopyWarning: \n",
      "A value is trying to be set on a copy of a slice from a DataFrame.\n",
      "Try using .loc[row_indexer,col_indexer] = value instead\n",
      "\n",
      "See the caveats in the documentation: https://pandas.pydata.org/pandas-docs/stable/user_guide/indexing.html#returning-a-view-versus-a-copy\n",
      "  from ipykernel import kernelapp as app\n",
      "C:\\ProgramData\\Anaconda3\\lib\\site-packages\\ipykernel_launcher.py:16: SettingWithCopyWarning: \n",
      "A value is trying to be set on a copy of a slice from a DataFrame.\n",
      "Try using .loc[row_indexer,col_indexer] = value instead\n",
      "\n",
      "See the caveats in the documentation: https://pandas.pydata.org/pandas-docs/stable/user_guide/indexing.html#returning-a-view-versus-a-copy\n",
      "  app.launch_new_instance()\n"
     ]
    }
   ],
   "source": [
    "# 주소1에 해당하는 데이터로 위도, 경도 변환 후 열 추가\n",
    "lat = []\n",
    "lng = []\n",
    "\n",
    "for add in address:\n",
    "    r = requests.get('http://api.vworld.kr/req/address?service=address&request=getcoord&version=2.0&crs=epsg:4326&key=mykey'% (ApiKey, add)).text\n",
    "    add_dict=json.loads(r, strict=False)\n",
    "    \n",
    "    if add_dict['response']['status'] =='OK':\n",
    "        lng.append(add_dict['response']['result']['point']['x'])\n",
    "        lat.append(add_dict['response']['result']['point']['y'])\n",
    "    else:\n",
    "        lng.append(None)\n",
    "        lat.append(None)\n",
    "\n",
    "df['경도'] = lng\n",
    "df['위도'] = lat"
   ]
  },
  {
   "cell_type": "code",
   "execution_count": 10,
   "metadata": {},
   "outputs": [],
   "source": [
    "# 엑셀(csv, xlsx) 파일로 저장\n",
    "df.to_csv(\"last_safe_restaurant.csv\", index=False, encoding=\"cp949\")"
   ]
  },
  {
   "cell_type": "code",
   "execution_count": 11,
   "metadata": {},
   "outputs": [],
   "source": [
    "df.to_excel(\"excel_last_safe_restaurant.xlsx\", index=False, encoding=\"cp949\")"
   ]
  },
  {
   "cell_type": "code",
   "execution_count": 12,
   "metadata": {},
   "outputs": [],
   "source": [
    "# 저장된 데이터 불러오기(확인 작업)\n",
    "df_safe=pd.read_csv('last_safe_restaurant.csv', encoding='cp949')"
   ]
  },
  {
   "cell_type": "code",
   "execution_count": 13,
   "metadata": {},
   "outputs": [
    {
     "data": {
      "text/html": [
       "<div>\n",
       "<style scoped>\n",
       "    .dataframe tbody tr th:only-of-type {\n",
       "        vertical-align: middle;\n",
       "    }\n",
       "\n",
       "    .dataframe tbody tr th {\n",
       "        vertical-align: top;\n",
       "    }\n",
       "\n",
       "    .dataframe thead th {\n",
       "        text-align: right;\n",
       "    }\n",
       "</style>\n",
       "<table border=\"1\" class=\"dataframe\">\n",
       "  <thead>\n",
       "    <tr style=\"text-align: right;\">\n",
       "      <th></th>\n",
       "      <th>경도</th>\n",
       "      <th>사업장명</th>\n",
       "      <th>업종상세</th>\n",
       "      <th>위도</th>\n",
       "      <th>전화번호</th>\n",
       "      <th>주소</th>\n",
       "    </tr>\n",
       "  </thead>\n",
       "  <tbody>\n",
       "    <tr>\n",
       "      <th>0</th>\n",
       "      <td>126.931311</td>\n",
       "      <td>피자굽는돌하르방성산점</td>\n",
       "      <td>서양식</td>\n",
       "      <td>33.462751</td>\n",
       "      <td>064-783-1500</td>\n",
       "      <td>제주특별자치도 서귀포시 성산중앙로19번길 14</td>\n",
       "    </tr>\n",
       "    <tr>\n",
       "      <th>1</th>\n",
       "      <td>126.933847</td>\n",
       "      <td>돌하르방뚝배기</td>\n",
       "      <td>한식</td>\n",
       "      <td>33.461210</td>\n",
       "      <td>064-784-6888</td>\n",
       "      <td>제주특별자치도 서귀포시 성산읍 일출로 264</td>\n",
       "    </tr>\n",
       "    <tr>\n",
       "      <th>2</th>\n",
       "      <td>126.933078</td>\n",
       "      <td>제주뚝배기</td>\n",
       "      <td>한식</td>\n",
       "      <td>33.461131</td>\n",
       "      <td>064-782-1089</td>\n",
       "      <td>제주특별자치도 서귀포시 성산읍 일출로 255</td>\n",
       "    </tr>\n",
       "    <tr>\n",
       "      <th>3</th>\n",
       "      <td>126.932856</td>\n",
       "      <td>아침바다</td>\n",
       "      <td>한식</td>\n",
       "      <td>33.461093</td>\n",
       "      <td>064-782-7501</td>\n",
       "      <td>제주특별자치도 서귀포시 성산읍 일출로 253</td>\n",
       "    </tr>\n",
       "    <tr>\n",
       "      <th>4</th>\n",
       "      <td>126.932518</td>\n",
       "      <td>전망좋은집</td>\n",
       "      <td>일식</td>\n",
       "      <td>33.460672</td>\n",
       "      <td>064-784-1568</td>\n",
       "      <td>제주특별자치도 서귀포시 성산읍 일출로 248</td>\n",
       "    </tr>\n",
       "    <tr>\n",
       "      <th>...</th>\n",
       "      <td>...</td>\n",
       "      <td>...</td>\n",
       "      <td>...</td>\n",
       "      <td>...</td>\n",
       "      <td>...</td>\n",
       "      <td>...</td>\n",
       "    </tr>\n",
       "    <tr>\n",
       "      <th>454</th>\n",
       "      <td>126.531408</td>\n",
       "      <td>가마치통닭제주시청점</td>\n",
       "      <td>한식</td>\n",
       "      <td>33.498831</td>\n",
       "      <td>064-721-6680</td>\n",
       "      <td>제주특별자치도 제주시 광양13길 10</td>\n",
       "    </tr>\n",
       "    <tr>\n",
       "      <th>455</th>\n",
       "      <td>126.541745</td>\n",
       "      <td>가마솥애</td>\n",
       "      <td>한식</td>\n",
       "      <td>33.505765</td>\n",
       "      <td>064-756-2777</td>\n",
       "      <td>제주특별자치도 제주시 고마로17길 5</td>\n",
       "    </tr>\n",
       "    <tr>\n",
       "      <th>456</th>\n",
       "      <td>126.524293</td>\n",
       "      <td>가리본가광양점</td>\n",
       "      <td>한식</td>\n",
       "      <td>33.500963</td>\n",
       "      <td>064-711-7448</td>\n",
       "      <td>제주특별자치도 제주시 서사로19길 42</td>\n",
       "    </tr>\n",
       "    <tr>\n",
       "      <th>457</th>\n",
       "      <td>126.572391</td>\n",
       "      <td>24시얼큰시원생고기김치찌개화북점</td>\n",
       "      <td>한식</td>\n",
       "      <td>33.513572</td>\n",
       "      <td>064-757-8111</td>\n",
       "      <td>제주특별자치도 제주시 동화로 74</td>\n",
       "    </tr>\n",
       "    <tr>\n",
       "      <th>458</th>\n",
       "      <td>126.520016</td>\n",
       "      <td>(주)우진해장국</td>\n",
       "      <td>한식</td>\n",
       "      <td>33.511539</td>\n",
       "      <td>064-757-3393</td>\n",
       "      <td>제주특별자치도 제주시 서사로 11</td>\n",
       "    </tr>\n",
       "  </tbody>\n",
       "</table>\n",
       "<p>459 rows × 6 columns</p>\n",
       "</div>"
      ],
      "text/plain": [
       "             경도               사업장명 업종상세         위도          전화번호  \\\n",
       "0    126.931311        피자굽는돌하르방성산점  서양식  33.462751  064-783-1500   \n",
       "1    126.933847            돌하르방뚝배기   한식  33.461210  064-784-6888   \n",
       "2    126.933078              제주뚝배기   한식  33.461131  064-782-1089   \n",
       "3    126.932856               아침바다   한식  33.461093  064-782-7501   \n",
       "4    126.932518              전망좋은집   일식  33.460672  064-784-1568   \n",
       "..          ...                ...  ...        ...           ...   \n",
       "454  126.531408         가마치통닭제주시청점   한식  33.498831  064-721-6680   \n",
       "455  126.541745               가마솥애   한식  33.505765  064-756-2777   \n",
       "456  126.524293            가리본가광양점   한식  33.500963  064-711-7448   \n",
       "457  126.572391  24시얼큰시원생고기김치찌개화북점   한식  33.513572  064-757-8111   \n",
       "458  126.520016           (주)우진해장국   한식  33.511539  064-757-3393   \n",
       "\n",
       "                              주소  \n",
       "0    제주특별자치도 서귀포시 성산중앙로19번길 14    \n",
       "1     제주특별자치도 서귀포시 성산읍 일출로 264    \n",
       "2     제주특별자치도 서귀포시 성산읍 일출로 255    \n",
       "3     제주특별자치도 서귀포시 성산읍 일출로 253    \n",
       "4     제주특별자치도 서귀포시 성산읍 일출로 248    \n",
       "..                           ...  \n",
       "454       제주특별자치도 제주시 광양13길 10    \n",
       "455       제주특별자치도 제주시 고마로17길 5    \n",
       "456     제주특별자치도 제주시 서사로19길 42     \n",
       "457         제주특별자치도 제주시 동화로 74    \n",
       "458         제주특별자치도 제주시 서사로 11    \n",
       "\n",
       "[459 rows x 6 columns]"
      ]
     },
     "execution_count": 13,
     "metadata": {},
     "output_type": "execute_result"
    }
   ],
   "source": [
    "df_safe"
   ]
  },
  {
   "cell_type": "code",
   "execution_count": null,
   "metadata": {},
   "outputs": [],
   "source": []
  }
 ],
 "metadata": {
  "kernelspec": {
   "display_name": "Python 3",
   "language": "python",
   "name": "python3"
  },
  "language_info": {
   "codemirror_mode": {
    "name": "ipython",
    "version": 3
   },
   "file_extension": ".py",
   "mimetype": "text/x-python",
   "name": "python",
   "nbconvert_exporter": "python",
   "pygments_lexer": "ipython3",
   "version": "3.7.6"
  }
 },
 "nbformat": 4,
 "nbformat_minor": 4
}
